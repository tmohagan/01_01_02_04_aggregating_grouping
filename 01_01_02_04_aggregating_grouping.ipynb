{
 "cells": [
  {
   "cell_type": "markdown",
   "metadata": {},
   "source": [
    "What was the hottest day in our data set? Where was that?"
   ]
  },
  {
   "cell_type": "markdown",
   "metadata": {},
   "source": [
    "SELECT MAX(maxtemperaturef), zip FROM weather GROUP BY zip ORDER BY MAX(maxtemperaturef) DESC;"
   ]
  },
  {
   "cell_type": "markdown",
   "metadata": {},
   "source": [
    "How many trips started at each station?"
   ]
  },
  {
   "cell_type": "markdown",
   "metadata": {},
   "source": [
    "SELECT\n",
    "    start_station,\n",
    "    count(*)\n",
    "FROM\n",
    "    trips\n",
    "GROUP BY start_station;"
   ]
  },
  {
   "cell_type": "markdown",
   "metadata": {},
   "source": [
    "What's the shortest trip that happened?"
   ]
  },
  {
   "cell_type": "markdown",
   "metadata": {},
   "source": [
    "SELECT\n",
    "trip_id, \n",
    "duration\n",
    "FROM\n",
    "trips\n",
    "ORDER BY duration ASC\n",
    "LIMIT 1;\n",
    "\n",
    "SELECT\n",
    "MIN(duration)\n",
    "FROM\n",
    "trips;\n"
   ]
  },
  {
   "cell_type": "markdown",
   "metadata": {},
   "source": [
    "What is the average trip duration, by end station?"
   ]
  },
  {
   "cell_type": "markdown",
   "metadata": {},
   "source": [
    "SELECT end_station, AVG(duration) AS avg_duration\n",
    "FROM trips\n",
    "GROUP BY end_station;"
   ]
  }
 ],
 "metadata": {
  "kernelspec": {
   "display_name": "Python 3",
   "language": "python",
   "name": "python3"
  },
  "language_info": {
   "codemirror_mode": {
    "name": "ipython",
    "version": 3
   },
   "file_extension": ".py",
   "mimetype": "text/x-python",
   "name": "python",
   "nbconvert_exporter": "python",
   "pygments_lexer": "ipython3",
   "version": "3.6.5"
  }
 },
 "nbformat": 4,
 "nbformat_minor": 2
}
